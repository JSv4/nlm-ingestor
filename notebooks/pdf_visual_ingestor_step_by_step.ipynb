{
 "cells": [
  {
   "cell_type": "markdown",
   "id": "207c307c-fda9-4091-b410-350edd6617df",
   "metadata": {},
   "source": [
    "### Run PDF Visual Ingestor step by step\n",
    "This notebook shows you examples of how to use the visual ingestor. You will learn:\n",
    "1. How to run and see raw output from the nlmatics modified tika server\n",
    "2. Parse the raw output from tika server using visual ingestor\n",
    "\n",
    "Before proceeding ensure that you have a tika server running:\n",
    "1. Install latest version of java\n",
    "2. Run java -jar /jars/tika-server-standard-nlm-modified-2.4.1_v4.jar"
   ]
  },
  {
   "cell_type": "code",
   "execution_count": 10,
   "id": "914b355b-2fc3-4b31-ad2c-1ba97d12c326",
   "metadata": {},
   "source": [
    "import os\n",
    "import sys\n",
    "from tika import parser\n",
    "from IPython.core.display import display, HTML\n",
    "from bs4 import BeautifulSoup\n",
    "\n",
    "src_dirs = ['../']\n",
    "\n",
    "for src_dir in src_dirs:\n",
    "    module_path = os.path.abspath(os.path.join(src_dir))\n",
    "    if module_path not in sys.path:\n",
    "        sys.path.append(module_path)\n",
    "\n",
    "\n",
    "%load_ext autoreload\n",
    "\n",
    "from nlm_ingestor.ingestor import patterns, line_parser, visual_ingestor\n",
    "from nlm_ingestor.ingestor.visual_ingestor import visual_ingestor, table_parser, indent_parser, block_renderer, order_fixer\n",
    "\n",
    "%autoreload 2"
   ],
   "outputs": []
  },
  {
   "cell_type": "markdown",
   "id": "e4788b6d-2611-40b9-b802-a94bc52181e8",
   "metadata": {},
   "source": [
    "### It is very important to first ensure that you have your own tika server running and use the url here\n",
    "\n",
    "If you do not run the tika server, py tika library will start a default server which won't have all the nlmatics modifications to proceed further.\n",
    "\n",
    "Before proceeding, ensure that the nlm-modified-tika server is running and tesseract is installed (if using ocr)."
   ]
  },
  {
   "cell_type": "code",
   "execution_count": 12,
   "id": "981fde97-0941-43da-a6f8-f5d025ee2578",
   "metadata": {},
   "source": [
    "os.environ[\"TIKA_SERVER_ENDPOINT\"] = \"http://localhost:9998\""
   ],
   "outputs": []
  },
  {
   "cell_type": "markdown",
   "id": "f58ba9e6-e627-49ac-8f39-559c0996ac60",
   "metadata": {},
   "source": [
    "The following code:\n",
    "1. takes a pdf from local file system \n",
    "2. uses the nlmatics modified tika server to parse it, and\n",
    "3. displays it on the browser"
   ]
  },
  {
   "cell_type": "code",
   "execution_count": 13,
   "id": "57d655f9-af7f-4c04-a016-b1a9dc1882f0",
   "metadata": {},
   "source": [
    "doc_loc = '/Users/ambikasukla/projects/data/sample-8k.pdf'\n",
    "# doc_loc = '/Users/ambikasukla/Downloads/scansmpl.pdf'\n",
    "\n",
    "# by default we will turn off ocr as it is slow, use true here to parse ocr files\n",
    "needs_ocr = False\n",
    "timeout = 3000\n",
    "if not needs_ocr:\n",
    "    headers = {\n",
    "        \"X-Tika-OCRskipOcr\": \"true\",\n",
    "    }\n",
    "    parsed = parser.from_file(doc_loc, xmlContent=True, requestOptions={'headers': headers, 'timeout': timeout})\n",
    "else:\n",
    "    print(\"ocr\")\n",
    "    headers = {\n",
    "        \"X-Tika-OCRskipOcr\": \"false\",\n",
    "        \"X-Tika-OCRoutputType\": \"hocr\",\n",
    "        \"X-Tika-OCRocrEngineMode\": \"3\",\n",
    "        \"X-Tika-PDFExtractInlineImages\":\"false\",\n",
    "        \"X-Tika-Timeout-Millis\": str(100*timeout),\n",
    "        \"X-Tika-OCRtimeoutSeconds\": str(timeout),\n",
    "    }\n",
    "    parsed = parser.from_file(doc_loc, xmlContent=True, requestOptions={'headers': headers, 'timeout': timeout})\n",
    "\n",
    "html_str = parsed[\"content\"]\n",
    "\n",
    "# optionally you can store these files locally and view them in the browser\n",
    "# html_loc = '/mnt/c/Users/ambik/Downloads/orig-html.html'\n",
    "# f = open(html_loc, \"w\")\n",
    "# f.write(html_str)\n",
    "# f.close()"
   ],
   "outputs": []
  },
  {
   "cell_type": "code",
   "execution_count": 14,
   "id": "bca9a811-b789-4989-908d-78462ace4004",
   "metadata": {},
   "source": [
    "display(HTML(html_str))"
   ],
   "outputs": []
  },
  {
   "cell_type": "markdown",
   "id": "63e8afff-ee03-4854-be2c-f0e2d6aa4c80",
   "metadata": {},
   "source": [
    "The following code:\n",
    "- Takes the html returned from nlmatics modified tika parser and parses it using bs\n",
    "- Passes the bs output pages to visual_ingestor to turn it into a format that you see in llmsherpa\n",
    "- displays the html"
   ]
  },
  {
   "cell_type": "code",
   "execution_count": 15,
   "id": "57d4a7f1-9a8c-4407-a5ca-54266f681145",
   "metadata": {},
   "source": [
    "soup = BeautifulSoup(str(parsed), \"html.parser\")\n",
    "pages = soup.find_all(\"div\", class_='page')\n",
    "ocr_page = soup.find_all('div', class_=\"ocr_page\", id='page_1')\n",
    "\n",
    "block_renderer.HTML_DEBUG = True\n",
    "visual_ingestor.LINE_DEBUG = False\n",
    "indent_parser.LEVEL_DEBUG = False\n",
    "indent_parser.NO_INDENT = False\n",
    "visual_ingestor.MIXED_FONT_DEBUG = False\n",
    "table_parser.TABLE_DEBUG = False\n",
    "visual_ingestor.BLOCK_DEBUG = False\n",
    "table_parser.TABLE_COL_DEBUG = False\n",
    "table_parser.TABLE_HG_DEBUG = False\n",
    "table_parser.TABLE_BOUNDS_DEBUG = False\n",
    "visual_ingestor.HF_DEBUG = False\n",
    "order_fixer.REORDER_DEBUG = False\n",
    "visual_ingestor.MERGE_DEBUG = False\n",
    "table_parser.TABLE_2_COL_DEBUG = False\n",
    "\n",
    "# you can also let the visual ingestor only parse select pages\n",
    "# but note that this will cause the document statistics to be incorrect\n",
    "# and behaviour may not be consistent with what you see when you parse more pages or the entire document\n",
    "\n",
    "# parsed_doc = visual_ingestor.Doc(pages[23:27], [])\n",
    "parsed_doc = visual_ingestor.Doc(pages, [])\n",
    "\n",
    "# optionally you can save the html in a file system and view it in a browser\n",
    "# html_loc = '/mnt/c/Users/ambik/Downloads/orig-small-html.html'\n",
    "# parsed_doc.html_str = parsed_doc.html_str.replace(\"\\xa0\", \" \")\n",
    "# f = open(html_loc, \"w\")\n",
    "# import html\n",
    "# f.write(parsed_doc.html_str)\n",
    "# f.close()\n",
    "display(HTML(parsed_doc.html_str)) "
   ],
   "outputs": []
  }
 ],
 "metadata": {
  "kernelspec": {
   "display_name": "Python 3 (ipykernel)",
   "language": "python",
   "name": "python3"
  },
  "language_info": {
   "codemirror_mode": {
    "name": "ipython",
    "version": 3
   },
   "file_extension": ".py",
   "mimetype": "text/x-python",
   "name": "python",
   "nbconvert_exporter": "python",
   "pygments_lexer": "ipython3",
   "version": "3.11.5"
  }
 },
 "nbformat": 4,
 "nbformat_minor": 5
}
